{
 "cells": [
  {
   "cell_type": "code",
   "execution_count": null,
   "metadata": {},
   "outputs": [],
   "source": [
    "import requests"
   ]
  },
  {
   "cell_type": "code",
   "execution_count": null,
   "metadata": {},
   "outputs": [],
   "source": [
    "VERIFY = True\n",
    "SIZE = 200"
   ]
  },
  {
   "cell_type": "code",
   "execution_count": null,
   "metadata": {},
   "outputs": [],
   "source": [
    "params = {\n",
    "    \"from\": 0,\n",
    "    \"localizationGeoHierarchy\": \"009001\",\n",
    "    \"matchSubProperties\": True,\n",
    "    \"size\": SIZE,\n",
    "    \"typeUseType\": \"RESIDENTIAL\"\n",
    "}"
   ]
  },
  {
   "cell_type": "code",
   "execution_count": null,
   "metadata": {},
   "outputs": [],
   "source": [
    "headers = {\n",
    "    \"accept\": \"application/json, text/plain, */*\"\n",
    "}"
   ]
  },
  {
   "cell_type": "code",
   "execution_count": null,
   "metadata": {},
   "outputs": [],
   "source": [
    "uri= \"https://www.immobilienscout24.at/api/psa/is24/properties/search\""
   ]
  },
  {
   "cell_type": "code",
   "execution_count": null,
   "metadata": {},
   "outputs": [],
   "source": [
    "response = requests.get(uri, headers=headers, params=params, verify=VERIFY).json()                \n",
    "dataHits = [response.get('hits')]                \n",
    "\n",
    "for site in range(0, response.get('numberOfPages')):\n",
    "    print('Download', site, 'von', response.get('numberOfPages'))\n",
    "    params['from'] = site*SIZE\n",
    "    tempResponse = requests.get(uri, headers=headers, params=params, verify=VERIFY).json()\n",
    "    dataHits.append(tempResponse)"
   ]
  },
  {
   "cell_type": "code",
   "execution_count": null,
   "metadata": {},
   "outputs": [],
   "source": [
    "len(dataHits)"
   ]
  },
  {
   "cell_type": "code",
   "execution_count": null,
   "metadata": {},
   "outputs": [],
   "source": [
    "dataHits[0]"
   ]
  },
  {
   "cell_type": "code",
   "execution_count": null,
   "metadata": {},
   "outputs": [],
   "source": [
    "data = []\n",
    "for site in dataHits:\n",
    "    if type(site) == list:\n",
    "        for item in site:\n",
    "            data.append(item)\n",
    "    elif 'hits' in site.keys():\n",
    "        for item in site.get('hits'):\n",
    "            data.append(item)\n",
    "    else:\n",
    "        print(\"upsi\")\n",
    "            "
   ]
  },
  {
   "cell_type": "code",
   "execution_count": null,
   "metadata": {},
   "outputs": [],
   "source": [
    "len(data)"
   ]
  },
  {
   "cell_type": "code",
   "execution_count": null,
   "metadata": {},
   "outputs": [],
   "source": [
    "import json\n",
    "with open(\"is24_resultlist.json\", 'w') as file:\n",
    "    file.write(json.dumps(data))\n",
    "    "
   ]
  }
 ],
 "metadata": {
  "kernelspec": {
   "display_name": "Python 3",
   "language": "python",
   "name": "python3"
  },
  "language_info": {
   "codemirror_mode": {
    "name": "ipython",
    "version": 3
   },
   "file_extension": ".py",
   "mimetype": "text/x-python",
   "name": "python",
   "nbconvert_exporter": "python",
   "pygments_lexer": "ipython3",
   "version": "3.6.5"
  }
 },
 "nbformat": 4,
 "nbformat_minor": 2
}
